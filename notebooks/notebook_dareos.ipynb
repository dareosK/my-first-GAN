{
 "cells": [
  {
   "cell_type": "code",
   "execution_count": 2,
   "id": "648a26d9",
   "metadata": {},
   "outputs": [
    {
     "name": "stdout",
     "output_type": "stream",
     "text": [
      "Random Seed:  69\n"
     ]
    },
    {
     "data": {
      "text/plain": [
       "<torch._C.Generator at 0x7f8ea0462cf0>"
      ]
     },
     "execution_count": 2,
     "metadata": {},
     "output_type": "execute_result"
    }
   ],
   "source": [
    "%matplotlib inline\n",
    "import argparse\n",
    "import os\n",
    "import random\n",
    "import torch\n",
    "import torch.nn as nn\n",
    "import torch.nn.parallel\n",
    "import torch.backends.cudnn as cudnn\n",
    "import torch.optim as optim\n",
    "import torch.utils.data\n",
    "import torchvision.datasets as dset\n",
    "import torchvision.utils as vutils\n",
    "import numpy as np\n",
    "import matplotlib.pyplot as plt\n",
    "import matplotlib.animation as animation\n",
    "from IPython.display import HTML\n",
    "import pytorch_lightning as pl\n",
    "from torch.utils.data import Dataset, DataLoader\n",
    "import torchvision.transforms as T\n",
    "import torchvision.datasets as TorchvisionDataset\n",
    "import numpy as np\n",
    "import torchvision.utils as TorchVisionUtils\n",
    "\n",
    "# Set random seed for reproducibility\n",
    "seed = 69\n",
    "\n",
    "print(\"Random Seed: \", seed)\n",
    "random.seed(seed)\n",
    "torch.manual_seed(seed)"
   ]
  },
  {
   "cell_type": "code",
   "execution_count": 18,
   "id": "9d60cca2",
   "metadata": {},
   "outputs": [],
   "source": [
    "# Inheritance. pass the parent class as an argument\n",
    "class WaifuDataloader(pl.LightningDataModule):\n",
    "#   __init__ is the reserved method name for constructors.\n",
    "    def __init__(self, folderpath='/Users/dareosk/code/dareosK/anime-faces-generator/inputs', \n",
    "                 batch_size = 128, \n",
    "                 image_size = 64, \n",
    "                 transforms = None):\n",
    "        \"\"\"\n",
    "        This constructor does pretty much the same things a Rails constructor would\n",
    "        \n",
    "        :parameter folderpath: folder containing waifu images\n",
    "        :parameter image_size: image size (eg 64*64) to centercrop + resize to\n",
    "        :parameter transforms: transormations to apply to tha images\n",
    "        \"\"\"\n",
    "#       initialize the parent class LightningDataModule\n",
    "        super().__init__(self)\n",
    "#       class variables, a bit like local variables in the model in rails\n",
    "        self.folderpath = folderpath\n",
    "        self.batch_size = batch_size\n",
    "        self.image_size = image_size\n",
    "#       None is like Null\n",
    "#                         Compose allows you to do a list of transformations\n",
    "        self.transforms = transforms if transforms is not None else \\\n",
    "                          T.Compose([T.Resize(image_size),\n",
    "                          T.CenterCrop(image_size),\n",
    "                          T.ToTensor(),\n",
    "#                         DCGAN paper mentions the results are better with this normalization\n",
    "                          T.Normalize((0.5, 0.5, 0.5), (0.5, 0.5, 0.5))])\n",
    "    \n",
    "        self.dataset = TorchvisionDataset.ImageFolder(root = folderpath, transform = self.transforms)\n",
    "\n",
    "#       sets another class variable!\n",
    "        self.dataloader = None\n",
    "    \n",
    "#   I can also call this in the __init__ if I want my class to be instatiated with a DataLoader. \n",
    "#   Otherwise, I can set the Class up and call WaifuDataloader.setup()\n",
    "    def setup(self):\n",
    "        self.dataloader = DataLoader(self.dataset, batch_size = self.batch_size, shuffle=True, num_workers = 4)\n",
    "\n",
    "#       Not too important. These methods are here for demonstration purposes\n",
    "    def get_batch(self):\n",
    "        if self.dataloader is None:\n",
    "            self.setup()\n",
    "        # The syntax is weird but this is how you get a batch from dataloader\n",
    "        batch = next(iter(self.dataloader))\n",
    "        return batch\n",
    "\n",
    "    def preview_batch(self, normalize=True):\n",
    "        \"\"\"\n",
    "        Preview a batch of waifus\n",
    "        \"\"\"\n",
    "        batch = self.get_batch()\n",
    "        plt.figure(figsize=(8, 8))\n",
    "        plt.axis(\"off\")\n",
    "        plt.title(\"Training Images\")\n",
    "        plt.imshow(np.transpose(TorchVisionUtils.make_grid(batch[0].to('cpu')[:64],\n",
    "                                                           padding=2,\n",
    "                                                           normalize=normalize).cpu(), (1, 2, 0)))\n",
    "\n",
    "    "
   ]
  },
  {
   "cell_type": "code",
   "execution_count": 1,
   "id": "29c34f45-1208-48a8-85c3-74ab1c20a5fb",
   "metadata": {},
   "outputs": [
    {
     "ename": "NameError",
     "evalue": "name 'WaifuDataloader' is not defined",
     "output_type": "error",
     "traceback": [
      "\u001B[0;31m---------------------------------------------------------------------------\u001B[0m",
      "\u001B[0;31mNameError\u001B[0m                                 Traceback (most recent call last)",
      "\u001B[0;32m/var/folders/z8/y6q_y9ps2gv31xq6ngpgx0gr0000gn/T/ipykernel_81619/848979870.py\u001B[0m in \u001B[0;36m<module>\u001B[0;34m\u001B[0m\n\u001B[0;32m----> 1\u001B[0;31m \u001B[0mpotato\u001B[0m \u001B[0;34m=\u001B[0m \u001B[0mWaifuDataloader\u001B[0m\u001B[0;34m(\u001B[0m\u001B[0;34m)\u001B[0m\u001B[0;34m\u001B[0m\u001B[0;34m\u001B[0m\u001B[0m\n\u001B[0m\u001B[1;32m      2\u001B[0m \u001B[0mpotato\u001B[0m\u001B[0;34m.\u001B[0m\u001B[0msetup\u001B[0m\u001B[0;34m(\u001B[0m\u001B[0;34m)\u001B[0m\u001B[0;34m\u001B[0m\u001B[0;34m\u001B[0m\u001B[0m\n\u001B[1;32m      3\u001B[0m \u001B[0mpotato\u001B[0m\u001B[0;34m.\u001B[0m\u001B[0mpreview_batch\u001B[0m\u001B[0;34m(\u001B[0m\u001B[0;34m)\u001B[0m\u001B[0;34m\u001B[0m\u001B[0;34m\u001B[0m\u001B[0m\n",
      "\u001B[0;31mNameError\u001B[0m: name 'WaifuDataloader' is not defined"
     ]
    }
   ],
   "source": [
    "potato = WaifuDataloader()\n",
    "potato.setup()\n",
    "potato.preview_batch()"
   ]
  },
  {
   "cell_type": "code",
   "execution_count": null,
   "id": "2f436d54-623d-49a6-813d-bdffedecfacf",
   "metadata": {},
   "outputs": [],
   "source": []
  }
 ],
 "metadata": {
  "kernelspec": {
   "display_name": "Python 3",
   "language": "python",
   "name": "python3"
  },
  "language_info": {
   "codemirror_mode": {
    "name": "ipython",
    "version": 3
   },
   "file_extension": ".py",
   "mimetype": "text/x-python",
   "name": "python",
   "nbconvert_exporter": "python",
   "pygments_lexer": "ipython3",
   "version": "3.9.5"
  }
 },
 "nbformat": 4,
 "nbformat_minor": 5
}